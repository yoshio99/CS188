{
 "cells": [
  {
   "cell_type": "code",
   "execution_count": 9,
   "id": "biological-terminology",
   "metadata": {},
   "outputs": [],
   "source": [
    "# Imported libraries\n",
    "import numpy as np\n",
    "import pandas as pd\n",
    "import os\n",
    "import matplotlib.pyplot as plt\n",
    "import seaborn as sns\n",
    "from sklearn.model_selection import train_test_split, StratifiedShuffleSplit, KFold\n",
    "from sklearn.preprocessing import OneHotEncoder\n",
    "from sklearn.linear_model import LogisticRegression\n",
    "from sklearn.metrics import mean_squared_error, r2_score, accuracy_score, f1_score, precision_score, recall_score\n",
    "from sklearn.ensemble import BaggingRegressor, BaggingClassifier, RandomForestClassifier\n",
    "from scipy.stats import t\n",
    "import statsmodels.api as sm\n",
    "from scipy import stats\n",
    "from sklearn.decomposition import PCA, TruncatedSVD\n",
    "from sklearn.tree import DecisionTreeClassifier\n",
    "from sklearn.neural_network import MLPClassifier\n",
    "\n",
    "\n",
    "from sklearn.impute import SimpleImputer\n",
    "from sklearn.compose import ColumnTransformer\n",
    "\n",
    "from sklearn.pipeline import Pipeline\n",
    "from sklearn.preprocessing import StandardScaler\n",
    "from sklearn.preprocessing import OneHotEncoder\n",
    "from sklearn.base import BaseEstimator, TransformerMixin\n",
    "\n",
    "%matplotlib inline\n",
    "\n",
    "import random\n",
    "\n",
    "random.seed(24)"
   ]
  },
  {
   "cell_type": "code",
   "execution_count": 10,
   "id": "exterior-support",
   "metadata": {},
   "outputs": [],
   "source": [
    "# loading in training data\n",
    "ROOT_DIR = \".\"\n",
    "file_path = os.path.join(ROOT_DIR, \"training_dataset.csv\")\n",
    "train_data = pd.read_csv(file_path)\n",
    "test_path = os.path.join(ROOT_DIR, \"score.csv\")\n",
    "test_data_ = pd.read_csv(test_path)"
   ]
  },
  {
   "cell_type": "code",
   "execution_count": 11,
   "id": "invisible-method",
   "metadata": {},
   "outputs": [
    {
     "name": "stdout",
     "output_type": "stream",
     "text": [
      "<class 'pandas.core.frame.DataFrame'>\n",
      "Int64Index: 84414 entries, 0 to 999\n",
      "Data columns (total 31 columns):\n",
      " #   Column                    Non-Null Count  Dtype  \n",
      "---  ------                    --------------  -----  \n",
      " 0   Unnamed: 0                84414 non-null  int64  \n",
      " 1   dt                        84414 non-null  object \n",
      " 2   weekday                   84414 non-null  object \n",
      " 3   year                      84414 non-null  int64  \n",
      " 4   id_driver                 84414 non-null  int64  \n",
      " 5   id_carrier_number         84414 non-null  object \n",
      " 6   dim_carrier_type          84414 non-null  object \n",
      " 7   dim_carrier_company_name  84365 non-null  object \n",
      " 8   home_base_city            84369 non-null  object \n",
      " 9   home_base_state           84369 non-null  object \n",
      " 10  carrier_trucks            84414 non-null  object \n",
      " 11  num_trucks                84344 non-null  float64\n",
      " 12  interested_in_drayage     84414 non-null  object \n",
      " 13  port_qualified            84414 non-null  object \n",
      " 14  signup_source             84414 non-null  object \n",
      " 15  ts_signup                 84414 non-null  object \n",
      " 16  ts_first_approved         71978 non-null  object \n",
      " 17  days_signup_to_approval   71978 non-null  float64\n",
      " 18  driver_with_twic          84414 non-null  object \n",
      " 19  dim_preferred_lanes       3451 non-null   object \n",
      " 20  first_load_date           84414 non-null  object \n",
      " 21  most_recent_load_date     83414 non-null  object \n",
      " 22  load_day                  84414 non-null  object \n",
      " 23  loads                     84414 non-null  int64  \n",
      " 24  marketplace_loads_otr     84414 non-null  int64  \n",
      " 25  marketplace_loads_atlas   84414 non-null  int64  \n",
      " 26  marketplace_loads         84414 non-null  int64  \n",
      " 27  brokerage_loads_otr       84414 non-null  int64  \n",
      " 28  brokerage_loads_atlas     84414 non-null  int64  \n",
      " 29  brokerage_loads           84414 non-null  int64  \n",
      " 30  total_loads               83414 non-null  float64\n",
      "dtypes: float64(3), int64(10), object(18)\n",
      "memory usage: 20.6+ MB\n",
      "None\n"
     ]
    }
   ],
   "source": [
    "# concatenate train and test data for preprocessing\n",
    "data = train_data.append(test_data_)\n",
    "print(data.info())"
   ]
  },
  {
   "cell_type": "code",
   "execution_count": 12,
   "id": "linear-bibliography",
   "metadata": {},
   "outputs": [
    {
     "name": "stdout",
     "output_type": "stream",
     "text": [
      "<class 'pandas.core.frame.DataFrame'>\n",
      "Int64Index: 84414 entries, 0 to 999\n",
      "Data columns (total 31 columns):\n",
      " #   Column                    Non-Null Count  Dtype  \n",
      "---  ------                    --------------  -----  \n",
      " 0   dt                        84414 non-null  object \n",
      " 1   weekday                   84414 non-null  object \n",
      " 2   year                      84414 non-null  int64  \n",
      " 3   id_driver                 84414 non-null  int64  \n",
      " 4   id_carrier_number         84414 non-null  object \n",
      " 5   dim_carrier_type          84414 non-null  object \n",
      " 6   dim_carrier_company_name  84365 non-null  object \n",
      " 7   home_base_city            84369 non-null  object \n",
      " 8   home_base_state           84369 non-null  object \n",
      " 9   carrier_trucks            84414 non-null  object \n",
      " 10  num_trucks                84344 non-null  float64\n",
      " 11  interested_in_drayage     84414 non-null  object \n",
      " 12  port_qualified            84414 non-null  object \n",
      " 13  signup_source             84414 non-null  object \n",
      " 14  ts_signup                 84414 non-null  object \n",
      " 15  ts_first_approved         71978 non-null  object \n",
      " 16  days_signup_to_approval   71978 non-null  float64\n",
      " 17  driver_with_twic          84414 non-null  object \n",
      " 18  dim_preferred_lanes       3451 non-null   object \n",
      " 19  first_load_date           84414 non-null  object \n",
      " 20  most_recent_load_date     83414 non-null  object \n",
      " 21  load_day                  84414 non-null  object \n",
      " 22  loads                     84414 non-null  int64  \n",
      " 23  marketplace_loads_otr     84414 non-null  int64  \n",
      " 24  marketplace_loads_atlas   84414 non-null  int64  \n",
      " 25  marketplace_loads         84414 non-null  int64  \n",
      " 26  brokerage_loads_otr       84414 non-null  int64  \n",
      " 27  brokerage_loads_atlas     84414 non-null  int64  \n",
      " 28  brokerage_loads           84414 non-null  int64  \n",
      " 29  total_loads               83414 non-null  float64\n",
      " 30  label                     84414 non-null  int64  \n",
      "dtypes: float64(3), int64(10), object(18)\n",
      "memory usage: 20.6+ MB\n"
     ]
    }
   ],
   "source": [
    "# drop extraneous features, initialize label feature\n",
    "data = data.drop([\"Unnamed: 0\"], axis=1)\n",
    "data['label'] = 0\n",
    "data.info()"
   ]
  },
  {
   "cell_type": "code",
   "execution_count": 13,
   "id": "italic-advance",
   "metadata": {},
   "outputs": [
    {
     "name": "stdout",
     "output_type": "stream",
     "text": [
      "0       2021-02-17\n",
      "33499   2021-02-17\n",
      "33563   2021-02-17\n",
      "33559   2021-02-17\n",
      "33536   2021-02-17\n",
      "Name: most_recent_load_date, dtype: datetime64[ns]\n",
      "37367    4266.0\n",
      "79110    4266.0\n",
      "45024    4266.0\n",
      "26816    4266.0\n",
      "44889    4266.0\n",
      "Name: total_loads, dtype: float64\n"
     ]
    }
   ],
   "source": [
    "\n",
    "#create dataframes that are sorted by most_recent_load_date and total_loads, respectively\n",
    "data['most_recent_load_date'] = pd.to_datetime(data['most_recent_load_date'])\n",
    "data_date_sorted = data.sort_values(by='most_recent_load_date', ascending=False)\n",
    "data_load_sorted = data.sort_values(by='total_loads', ascending=False)\n",
    "print(data_date_sorted['most_recent_load_date'].head())\n",
    "print(data_load_sorted['total_loads'].head())\n"
   ]
  },
  {
   "cell_type": "code",
   "execution_count": 14,
   "id": "invalid-footage",
   "metadata": {},
   "outputs": [
    {
     "name": "stdout",
     "output_type": "stream",
     "text": [
      "2021-02-14 00:00:00\n",
      "325.0\n"
     ]
    },
    {
     "name": "stderr",
     "output_type": "stream",
     "text": [
      "C:\\Users\\yoshi\\anaconda3\\lib\\site-packages\\pandas\\core\\indexing.py:1637: SettingWithCopyWarning: \n",
      "A value is trying to be set on a copy of a slice from a DataFrame\n",
      "\n",
      "See the caveats in the documentation: https://pandas.pydata.org/pandas-docs/stable/user_guide/indexing.html#returning-a-view-versus-a-copy\n",
      "  self._setitem_single_block(indexer, value, name)\n"
     ]
    }
   ],
   "source": [
    "\n",
    "#iterate through data, assigning labels of 1 to those that meet required cutoff based on most_recent_load_date and total_loads\n",
    "date_cutoff = data_date_sorted[\"most_recent_load_date\"].iloc[83414//4]\n",
    "loads_cutoff = data_load_sorted[\"total_loads\"].iloc[83414//4]\n",
    "print(date_cutoff)\n",
    "print(loads_cutoff)\n",
    "for i in range(84414):\n",
    "    if(data['most_recent_load_date'].iloc[i] >= date_cutoff and data['total_loads'].iloc[i] >= loads_cutoff):\n",
    "        data['label'].iloc[i] = 1\n",
    "    else:\n",
    "        data['label'].iloc[i] = 0\n"
   ]
  },
  {
   "cell_type": "code",
   "execution_count": 15,
   "id": "saved-microphone",
   "metadata": {},
   "outputs": [],
   "source": [
    "#drop most_recent_load_date and total_loads\n",
    "data = data.drop([\"most_recent_load_date\", \"total_loads\"], axis=1)"
   ]
  },
  {
   "cell_type": "code",
   "execution_count": 16,
   "id": "molecular-gothic",
   "metadata": {},
   "outputs": [
    {
     "data": {
      "image/png": "[encoded data removed]",
      "text/plain": [
       "<Figure size 1440x1080 with 12 Axes>"
      ]
     },
     "metadata": {
      "needs_background": "light"
     },
     "output_type": "display_data"
    }
   ],
   "source": [
    "#plot features to see distributions\n",
    "data.hist(figsize=(20,15), align='mid')\n",
    "plt.show()"
   ]
  },
  {
   "cell_type": "code",
   "execution_count": 17,
   "id": "taken-serbia",
   "metadata": {},
   "outputs": [],
   "source": [
    "#drop features that won't be needed\n",
    "data = data.drop([\"dt\", \"weekday\", \"year\", \"id_driver\", \"signup_source\", \"first_load_date\", \"ts_signup\", \"ts_first_approved\",\n",
    "                 \"dim_preferred_lanes\", \"load_day\", \"home_base_city\", \"id_carrier_number\", \"dim_carrier_company_name\"], axis=1)"
   ]
  },
  {
   "cell_type": "code",
   "execution_count": 18,
   "id": "stuffed-insured",
   "metadata": {},
   "outputs": [
    {
     "name": "stdout",
     "output_type": "stream",
     "text": [
      "<class 'pandas.core.frame.DataFrame'>\n",
      "Int64Index: 84414 entries, 0 to 999\n",
      "Data columns (total 16 columns):\n",
      " #   Column                   Non-Null Count  Dtype  \n",
      "---  ------                   --------------  -----  \n",
      " 0   dim_carrier_type         84414 non-null  object \n",
      " 1   home_base_state          84369 non-null  object \n",
      " 2   carrier_trucks           84414 non-null  object \n",
      " 3   num_trucks               84344 non-null  float64\n",
      " 4   interested_in_drayage    84414 non-null  object \n",
      " 5   port_qualified           84414 non-null  object \n",
      " 6   days_signup_to_approval  71978 non-null  float64\n",
      " 7   driver_with_twic         84414 non-null  object \n",
      " 8   loads                    84414 non-null  int64  \n",
      " 9   marketplace_loads_otr    84414 non-null  int64  \n",
      " 10  marketplace_loads_atlas  84414 non-null  int64  \n",
      " 11  marketplace_loads        84414 non-null  int64  \n",
      " 12  brokerage_loads_otr      84414 non-null  int64  \n",
      " 13  brokerage_loads_atlas    84414 non-null  int64  \n",
      " 14  brokerage_loads          84414 non-null  int64  \n",
      " 15  label                    84414 non-null  int64  \n",
      "dtypes: float64(2), int64(8), object(6)\n",
      "memory usage: 10.9+ MB\n",
      "None\n"
     ]
    }
   ],
   "source": [
    "print(data.info())"
   ]
  },
  {
   "cell_type": "code",
   "execution_count": 19,
   "id": "saved-valve",
   "metadata": {},
   "outputs": [
    {
     "data": {
      "text/plain": [
       "<AxesSubplot:>"
      ]
     },
     "execution_count": 19,
     "metadata": {},
     "output_type": "execute_result"
    },
    {
     "data": {
      "image/png": "[encoded data removed]",
      "text/plain": [
       "<Figure size 432x288 with 2 Axes>"
      ]
     },
     "metadata": {
      "needs_background": "light"
     },
     "output_type": "display_data"
    }
   ],
   "source": [
    "#plot feature correlation matrix\n",
    "corr_matrix = data.corr()\n",
    "sns.heatmap(corr_matrix)"
   ]
  },
  {
   "cell_type": "code",
   "execution_count": 20,
   "id": "damaged-ceremony",
   "metadata": {},
   "outputs": [
    {
     "name": "stdout",
     "output_type": "stream",
     "text": [
      "                         num_trucks  days_signup_to_approval     loads  \\\n",
      "num_trucks                 1.000000                 0.051573 -0.048151   \n",
      "days_signup_to_approval    0.051573                 1.000000 -0.136858   \n",
      "loads                     -0.048151                -0.136858  1.000000   \n",
      "marketplace_loads_otr     -0.120255                 0.085015 -0.034094   \n",
      "marketplace_loads_atlas   -0.150301                -0.213596  0.237985   \n",
      "marketplace_loads         -0.185767                -0.159449  0.201740   \n",
      "brokerage_loads_otr       -0.049881                 0.133193  0.312709   \n",
      "brokerage_loads_atlas     -0.120857                -0.188274  0.207638   \n",
      "brokerage_loads           -0.062506                 0.109355  0.335597   \n",
      "label                     -0.147923                -0.173430  0.216259   \n",
      "\n",
      "                         marketplace_loads_otr  marketplace_loads_atlas  \\\n",
      "num_trucks                           -0.120255                -0.150301   \n",
      "days_signup_to_approval               0.085015                -0.213596   \n",
      "loads                                -0.034094                 0.237985   \n",
      "marketplace_loads_otr                 1.000000                 0.011548   \n",
      "marketplace_loads_atlas               0.011548                 1.000000   \n",
      "marketplace_loads                     0.422001                 0.911408   \n",
      "brokerage_loads_otr                  -0.013237                -0.119366   \n",
      "brokerage_loads_atlas                -0.064892                 0.408966   \n",
      "brokerage_loads                      -0.019944                -0.078170   \n",
      "label                                 0.150293                 0.499873   \n",
      "\n",
      "                         marketplace_loads  brokerage_loads_otr  \\\n",
      "num_trucks                       -0.185767            -0.049881   \n",
      "days_signup_to_approval          -0.159449             0.133193   \n",
      "loads                             0.201740             0.312709   \n",
      "marketplace_loads_otr             0.422001            -0.013237   \n",
      "marketplace_loads_atlas           0.911408            -0.119366   \n",
      "marketplace_loads                 1.000000            -0.113671   \n",
      "brokerage_loads_otr              -0.113671             1.000000   \n",
      "brokerage_loads_atlas             0.344087            -0.102387   \n",
      "brokerage_loads                  -0.079081             0.994811   \n",
      "label                             0.515063             0.268878   \n",
      "\n",
      "                         brokerage_loads_atlas  brokerage_loads     label  \n",
      "num_trucks                           -0.120857        -0.062506 -0.147923  \n",
      "days_signup_to_approval              -0.188274         0.109355 -0.173430  \n",
      "loads                                 0.207638         0.335597  0.216259  \n",
      "marketplace_loads_otr                -0.064892        -0.019944  0.150293  \n",
      "marketplace_loads_atlas               0.408966        -0.078170  0.499873  \n",
      "marketplace_loads                     0.344087        -0.079081  0.515063  \n",
      "brokerage_loads_otr                  -0.102387         0.994811  0.268878  \n",
      "brokerage_loads_atlas                 1.000000        -0.000654  0.279523  \n",
      "brokerage_loads                      -0.000654         1.000000  0.298887  \n",
      "label                                 0.279523         0.298887  1.000000  \n"
     ]
    }
   ],
   "source": [
    "#numerical representation of above plot\n",
    "print(corr_matrix)"
   ]
  },
  {
   "cell_type": "code",
   "execution_count": 21,
   "id": "aggregate-option",
   "metadata": {},
   "outputs": [
    {
     "name": "stdout",
     "output_type": "stream",
     "text": [
      "         num_trucks  days_signup_to_approval         loads  \\\n",
      "count  84344.000000             71978.000000  84414.000000   \n",
      "mean      22.597185               298.803190      2.075473   \n",
      "std       48.840386               390.414603      2.666080   \n",
      "min        1.000000                 0.000000      1.000000   \n",
      "25%        1.000000                 0.000000      1.000000   \n",
      "50%        4.000000                61.000000      1.000000   \n",
      "75%       14.000000               497.000000      2.000000   \n",
      "max      195.000000              1653.000000    129.000000   \n",
      "\n",
      "       marketplace_loads_otr  marketplace_loads_atlas  marketplace_loads  \\\n",
      "count           84414.000000             84414.000000       84414.000000   \n",
      "mean               29.491447                71.547326         101.038773   \n",
      "std                88.274149               194.479172         214.501677   \n",
      "min                 0.000000                 0.000000           0.000000   \n",
      "25%                 0.000000                 0.000000           0.000000   \n",
      "50%                 2.000000                 0.000000          13.000000   \n",
      "75%                23.000000                18.000000          94.000000   \n",
      "max               902.000000              1324.000000        1348.000000   \n",
      "\n",
      "       brokerage_loads_otr  brokerage_loads_atlas  brokerage_loads  \\\n",
      "count         84414.000000           84414.000000     84414.000000   \n",
      "mean            148.160222              13.077381       161.237603   \n",
      "std             415.462234              42.267832       413.278914   \n",
      "min               0.000000               0.000000         0.000000   \n",
      "25%               0.000000               0.000000         5.000000   \n",
      "50%              15.000000               0.000000        37.000000   \n",
      "75%             110.000000               1.000000       135.000000   \n",
      "max            4266.000000             371.000000      4266.000000   \n",
      "\n",
      "              label  \n",
      "count  84414.000000  \n",
      "mean       0.123119  \n",
      "std        0.328576  \n",
      "min        0.000000  \n",
      "25%        0.000000  \n",
      "50%        0.000000  \n",
      "75%        0.000000  \n",
      "max        1.000000  \n"
     ]
    }
   ],
   "source": [
    "#print intro analysis to each feature\n",
    "print(data.describe())"
   ]
  },
  {
   "cell_type": "code",
   "execution_count": 22,
   "id": "working-venture",
   "metadata": {},
   "outputs": [],
   "source": [
    "#One-hot encode dim_carrier_type earlier than pipeline to create cross term\n",
    "ohe = OneHotEncoder()\n",
    "feat_to_tf = ['dim_carrier_type']\n",
    "cp_encoded = ohe.fit_transform(data[feat_to_tf]).toarray()\n",
    "new_features = ohe.get_feature_names(feat_to_tf)\n",
    "data[new_features] = cp_encoded\n",
    "data = data.drop(feat_to_tf, axis=1)"
   ]
  },
  {
   "cell_type": "code",
   "execution_count": 23,
   "id": "assigned-memory",
   "metadata": {},
   "outputs": [],
   "source": [
    "#drop rows with null value in home_base_state and/or num_trucks\n",
    "data = data.dropna(subset=[\"home_base_state\", \"num_trucks\"])"
   ]
  },
  {
   "cell_type": "code",
   "execution_count": 24,
   "id": "favorite-facing",
   "metadata": {},
   "outputs": [],
   "source": [
    "#impute median value into missing attributes\n",
    "imputer = SimpleImputer(strategy=\"median\") # use median imputation for missing values\n",
    "data[\"num_trucks_fleet\"] = data[\"num_trucks\"] * data[\"dim_carrier_type_Fleet\"]\n",
    "data[\"num_trucks_operator\"] = data[\"num_trucks\"] * data[\"dim_carrier_type_Owner Operator\"]\n",
    "median = data[\"days_signup_to_approval\"].median() \n",
    "data[\"days_signup_to_approval\"].fillna(median, inplace=True)"
   ]
  },
  {
   "cell_type": "code",
   "execution_count": 25,
   "id": "removable-chest",
   "metadata": {
    "scrolled": false
   },
   "outputs": [
    {
     "name": "stdout",
     "output_type": "stream",
     "text": [
      "<class 'pandas.core.frame.DataFrame'>\n",
      "Int64Index: 84300 entries, 0 to 999\n",
      "Data columns (total 19 columns):\n",
      " #   Column                           Non-Null Count  Dtype  \n",
      "---  ------                           --------------  -----  \n",
      " 0   home_base_state                  84300 non-null  object \n",
      " 1   carrier_trucks                   84300 non-null  object \n",
      " 2   num_trucks                       84300 non-null  float64\n",
      " 3   interested_in_drayage            84300 non-null  object \n",
      " 4   port_qualified                   84300 non-null  object \n",
      " 5   days_signup_to_approval          84300 non-null  float64\n",
      " 6   driver_with_twic                 84300 non-null  object \n",
      " 7   loads                            84300 non-null  int64  \n",
      " 8   marketplace_loads_otr            84300 non-null  int64  \n",
      " 9   marketplace_loads_atlas          84300 non-null  int64  \n",
      " 10  marketplace_loads                84300 non-null  int64  \n",
      " 11  brokerage_loads_otr              84300 non-null  int64  \n",
      " 12  brokerage_loads_atlas            84300 non-null  int64  \n",
      " 13  brokerage_loads                  84300 non-null  int64  \n",
      " 14  label                            84300 non-null  int64  \n",
      " 15  dim_carrier_type_Fleet           84300 non-null  float64\n",
      " 16  dim_carrier_type_Owner Operator  84300 non-null  float64\n",
      " 17  num_trucks_fleet                 84300 non-null  float64\n",
      " 18  num_trucks_operator              84300 non-null  float64\n",
      "dtypes: float64(6), int64(8), object(5)\n",
      "memory usage: 12.9+ MB\n",
      "None\n"
     ]
    }
   ],
   "source": [
    "print(data.info())"
   ]
  },
  {
   "cell_type": "code",
   "execution_count": 26,
   "id": "korean-business",
   "metadata": {},
   "outputs": [],
   "source": [
    "#data pipeline\n",
    "labels = data[\"label\"]\n",
    "data_unlabeled = data.drop(\"label\", axis=1)\n",
    "\n",
    "data_num = data_unlabeled.drop([\"dim_carrier_type_Fleet\", \"dim_carrier_type_Owner Operator\", \"home_base_state\",\"carrier_trucks\",\n",
    "                                \"interested_in_drayage\",\"port_qualified\", \"driver_with_twic\"], axis=1)\n",
    "data_cat = data_unlabeled[[\"home_base_state\",\"carrier_trucks\", \"interested_in_drayage\",\"port_qualified\", \"driver_with_twic\"]]\n",
    "        \n",
    "num_pipeline = Pipeline([\n",
    "        ('imputer', SimpleImputer(strategy=\"median\")),\n",
    "        ('std_scaler', StandardScaler()),\n",
    "    ])\n",
    "\n",
    "numerical_features = list(data_num)\n",
    "categorical_features = list(data_cat)\n",
    "\n",
    "full_pipeline = ColumnTransformer([\n",
    "        (\"cat\", OneHotEncoder(), categorical_features),\n",
    "        (\"num\", num_pipeline, numerical_features),\n",
    "    ])\n",
    "\n",
    "data_prepared = full_pipeline.fit_transform(data_unlabeled).toarray()"
   ]
  },
  {
   "cell_type": "code",
   "execution_count": 27,
   "id": "acceptable-commander",
   "metadata": {},
   "outputs": [],
   "source": [
    "#separate data into training and test \n",
    "test_data = data_prepared[83300:]\n",
    "test_labels = labels[83300:]\n",
    "data_prepared = data_prepared[:83300]\n",
    "labels = labels[:83300]"
   ]
  },
  {
   "cell_type": "code",
   "execution_count": 28,
   "id": "listed-perfume",
   "metadata": {},
   "outputs": [
    {
     "name": "stdout",
     "output_type": "stream",
     "text": [
      "(66640, 71)\n",
      "(66640,)\n",
      "(16660, 71)\n",
      "(16660,)\n",
      "<class 'pandas.core.series.Series'>\n"
     ]
    }
   ],
   "source": [
    "#split training data into train and validation sets\n",
    "data_target = labels\n",
    "X_train, X_test, y_train, y_test = train_test_split(data_prepared, data_target, test_size=0.2, random_state=24) \n",
    "print(X_train.shape)\n",
    "print(y_train.shape)\n",
    "print(X_test.shape)\n",
    "print(y_test.shape)\n",
    "print(type(data_target))"
   ]
  },
  {
   "cell_type": "code",
   "execution_count": 34,
   "id": "internal-jacob",
   "metadata": {},
   "outputs": [
    {
     "name": "stdout",
     "output_type": "stream",
     "text": [
      "0.9087635054021609\n",
      "0.5486935866983372\n"
     ]
    }
   ],
   "source": [
    "#Logistic Regression model, printing R2 score and F1 score\n",
    "LR = LogisticRegression(max_iter=500)\n",
    "reg = LR.fit(X_train, y_train)\n",
    "y_pred = LR.predict(X_test)\n",
    "print(LR.score(X_test, y_test))\n",
    "print(f1_score(y_test, y_pred))"
   ]
  },
  {
   "cell_type": "code",
   "execution_count": 35,
   "id": "french-element",
   "metadata": {},
   "outputs": [
    {
     "name": "stdout",
     "output_type": "stream",
     "text": [
      "t-value =  -0.09092825785564887\n",
      "p-value =  0.5362250636894733\n"
     ]
    }
   ],
   "source": [
    "#Bootstrapping Classifier, outputting t-value and p-value for each\n",
    "BR = BaggingClassifier(LR, n_estimators=100, bootstrap=True,max_samples=66000)\n",
    "BR.fit(X_train, y_train)\n",
    "intercept=[]\n",
    "beta1=[]\n",
    "for m in BR.estimators_:\n",
    "    intercept.append(m.intercept_)\n",
    "    beta1.append(m.coef_[0])\n",
    "np.std(intercept),np.std(beta1),np.mean(intercept),np.mean(beta1)\n",
    "\n",
    "t_value = np.mean(beta1)/np.std(beta1)\n",
    "print(\"t-value = \", t_value)\n",
    "print(\"p-value = \", t.sf(t_value, 65998))\n"
   ]
  },
  {
   "cell_type": "code",
   "execution_count": 29,
   "id": "unexpected-china",
   "metadata": {},
   "outputs": [
    {
     "name": "stdout",
     "output_type": "stream",
     "text": [
      "[0.18716199 0.09945653 0.15462493 0.14155783 0.10179264]\n",
      "[519.42306611 497.25718329 439.18373299 407.57319039 333.92429467]\n",
      "[0.20376805 0.0915811  0.14809434 0.12561702 0.11380326]\n",
      "[57.47100477 54.13116088 47.21153124 40.06111789 37.9827252 ]\n"
     ]
    }
   ],
   "source": [
    "#Dimensionality Reduction on features, used TruncatedSVD because can't use PCA on a sparse matrix\n",
    "tsvd = TruncatedSVD(n_components=5)\n",
    "tsvd.fit(data_prepared)\n",
    "print(tsvd.explained_variance_ratio_)\n",
    "print(tsvd.singular_values_)\n",
    "data_prepared_transformed = tsvd.transform(data_prepared)\n",
    "tsvd = TruncatedSVD(n_components=5)\n",
    "tsvd.fit(test_data)\n",
    "print(tsvd.explained_variance_ratio_)\n",
    "print(tsvd.singular_values_)\n",
    "test_data_transformed = tsvd.transform(test_data)"
   ]
  },
  {
   "cell_type": "code",
   "execution_count": 24,
   "id": "interesting-alaska",
   "metadata": {},
   "outputs": [
    {
     "name": "stdout",
     "output_type": "stream",
     "text": [
      "1.0\n",
      "1.0\n"
     ]
    }
   ],
   "source": [
    "#Ensemble method (RandomForestClassifier), outputting R2 score and F1 score\n",
    "rfr = RandomForestClassifier(n_estimators=100, random_state=24)\n",
    "rfr.fit(X_train, y_train)\n",
    "y_pred = rfr.predict(X_test)\n",
    "print(rfr.score(X_test, y_test))\n",
    "print(f1_score(y_test, y_pred))"
   ]
  },
  {
   "cell_type": "code",
   "execution_count": 40,
   "id": "narrative-advisory",
   "metadata": {},
   "outputs": [
    {
     "name": "stdout",
     "output_type": "stream",
     "text": [
      "Iteration 1, loss = 0.26607983\n",
      "Iteration 2, loss = 0.17483718\n",
      "Iteration 3, loss = 0.15821045\n",
      "Iteration 4, loss = 0.14842676\n",
      "Iteration 5, loss = 0.14128851\n",
      "Iteration 6, loss = 0.13534587\n",
      "Iteration 7, loss = 0.13040251\n",
      "Iteration 8, loss = 0.12525184\n",
      "Iteration 9, loss = 0.12079332\n",
      "Iteration 10, loss = 0.11635620\n",
      "Iteration 11, loss = 0.11191708\n",
      "Iteration 12, loss = 0.10804801\n",
      "Iteration 13, loss = 0.10434663\n",
      "Iteration 14, loss = 0.10118650\n",
      "Iteration 15, loss = 0.09847613\n",
      "Iteration 16, loss = 0.09585397\n",
      "Iteration 17, loss = 0.09371488\n",
      "Iteration 18, loss = 0.09180125\n",
      "Iteration 19, loss = 0.09025961\n",
      "Iteration 20, loss = 0.08858048\n",
      "Iteration 21, loss = 0.08702317\n",
      "Iteration 22, loss = 0.08605363\n",
      "Iteration 23, loss = 0.08424941\n",
      "Iteration 24, loss = 0.08312328\n",
      "Iteration 25, loss = 0.08212001\n",
      "Iteration 26, loss = 0.08086487\n",
      "Iteration 27, loss = 0.07966049\n",
      "Iteration 28, loss = 0.07868468\n",
      "Iteration 29, loss = 0.07845348\n",
      "Iteration 30, loss = 0.07712059\n",
      "Iteration 31, loss = 0.07614415\n",
      "Iteration 32, loss = 0.07559320\n",
      "Iteration 33, loss = 0.07436143\n",
      "Iteration 34, loss = 0.07388362\n",
      "Iteration 35, loss = 0.07328694\n",
      "Iteration 36, loss = 0.07247110\n",
      "Iteration 37, loss = 0.07121502\n",
      "Iteration 38, loss = 0.07080507\n",
      "Iteration 39, loss = 0.07006055\n",
      "Iteration 40, loss = 0.06946091\n",
      "Iteration 41, loss = 0.06857509\n",
      "Iteration 42, loss = 0.06830356\n",
      "Iteration 43, loss = 0.06743413\n",
      "Iteration 44, loss = 0.06684075\n",
      "Iteration 45, loss = 0.06648068\n",
      "Iteration 46, loss = 0.06579555\n",
      "Iteration 47, loss = 0.06518232\n",
      "Iteration 48, loss = 0.06453546\n",
      "Iteration 49, loss = 0.06417169\n",
      "Iteration 50, loss = 0.06368668\n",
      "Iteration 51, loss = 0.06306862\n",
      "Iteration 52, loss = 0.06228144\n",
      "Iteration 53, loss = 0.06198722\n",
      "Iteration 54, loss = 0.06138897\n",
      "Iteration 55, loss = 0.06114347\n",
      "Iteration 56, loss = 0.06056288\n",
      "Iteration 57, loss = 0.06026244\n",
      "Iteration 58, loss = 0.05971280\n",
      "Iteration 59, loss = 0.05980640\n",
      "Iteration 60, loss = 0.05907757\n",
      "Iteration 61, loss = 0.05843128\n",
      "Iteration 62, loss = 0.05821199\n",
      "Iteration 63, loss = 0.05777701\n",
      "Iteration 64, loss = 0.05754531\n",
      "Iteration 65, loss = 0.05705850\n",
      "Iteration 66, loss = 0.05658697\n",
      "Iteration 67, loss = 0.05662547\n",
      "Iteration 68, loss = 0.05595561\n",
      "Iteration 69, loss = 0.05557509\n",
      "Iteration 70, loss = 0.05536313\n",
      "Iteration 71, loss = 0.05505242\n",
      "Iteration 72, loss = 0.05505313\n",
      "Iteration 73, loss = 0.05461964\n",
      "Iteration 74, loss = 0.05401906\n",
      "Iteration 75, loss = 0.05401597\n",
      "Iteration 76, loss = 0.05369031\n",
      "Iteration 77, loss = 0.05343140\n",
      "Iteration 78, loss = 0.05300909\n",
      "Iteration 79, loss = 0.05305167\n",
      "Iteration 80, loss = 0.05274039\n",
      "Iteration 81, loss = 0.05286671\n",
      "Iteration 82, loss = 0.05207980\n",
      "Iteration 83, loss = 0.05190190\n",
      "Iteration 84, loss = 0.05141235\n",
      "Iteration 85, loss = 0.05135156\n",
      "Iteration 86, loss = 0.05111733\n",
      "Iteration 87, loss = 0.05071447\n",
      "Iteration 88, loss = 0.05062993\n",
      "Iteration 89, loss = 0.05034263\n",
      "Iteration 90, loss = 0.05069131\n",
      "Iteration 91, loss = 0.05008970\n",
      "Iteration 92, loss = 0.05012103\n",
      "Iteration 93, loss = 0.04967790\n",
      "Iteration 94, loss = 0.04990082\n",
      "Iteration 95, loss = 0.04925625\n",
      "Iteration 96, loss = 0.04895147\n",
      "Iteration 97, loss = 0.04921565\n",
      "Iteration 98, loss = 0.04907137\n",
      "Iteration 99, loss = 0.04876419\n",
      "Iteration 100, loss = 0.04816333\n",
      "Iteration 101, loss = 0.04815407\n",
      "Iteration 102, loss = 0.04808046\n",
      "Iteration 103, loss = 0.04808854\n",
      "Iteration 104, loss = 0.04798717\n",
      "Iteration 105, loss = 0.04757025\n",
      "Iteration 106, loss = 0.04787353\n",
      "Iteration 107, loss = 0.04711030\n",
      "Iteration 108, loss = 0.04700461\n",
      "Iteration 109, loss = 0.04672635\n",
      "Iteration 110, loss = 0.04669662\n",
      "Iteration 111, loss = 0.04667063\n",
      "Iteration 112, loss = 0.04645848\n",
      "Iteration 113, loss = 0.04629583\n",
      "Iteration 114, loss = 0.04641888\n",
      "Iteration 115, loss = 0.04590703\n",
      "Iteration 116, loss = 0.04582542\n",
      "Iteration 117, loss = 0.04577804\n",
      "Iteration 118, loss = 0.04570747\n",
      "Iteration 119, loss = 0.04594962\n",
      "Iteration 120, loss = 0.04557583\n",
      "Iteration 121, loss = 0.04550090\n",
      "Iteration 122, loss = 0.04516548\n",
      "Iteration 123, loss = 0.04485472\n",
      "Iteration 124, loss = 0.04517448\n",
      "Iteration 125, loss = 0.04489054\n",
      "Iteration 126, loss = 0.04495822\n",
      "Iteration 127, loss = 0.04462976\n",
      "Iteration 128, loss = 0.04443609\n",
      "Iteration 129, loss = 0.04447114\n",
      "Iteration 130, loss = 0.04409288\n",
      "Iteration 131, loss = 0.04422904\n",
      "Iteration 132, loss = 0.04376697\n",
      "Iteration 133, loss = 0.04378574\n",
      "Iteration 134, loss = 0.04359168\n",
      "Iteration 135, loss = 0.04367395\n",
      "Iteration 136, loss = 0.04346029\n",
      "Iteration 137, loss = 0.04345510\n",
      "Iteration 138, loss = 0.04311299\n",
      "Iteration 139, loss = 0.04352860\n",
      "Iteration 140, loss = 0.04298063\n",
      "Iteration 141, loss = 0.04307309\n",
      "Iteration 142, loss = 0.04282566\n",
      "Iteration 143, loss = 0.04286197\n",
      "Iteration 144, loss = 0.04249622\n",
      "Iteration 145, loss = 0.04246297\n",
      "Iteration 146, loss = 0.04189027\n",
      "Iteration 147, loss = 0.04285141\n",
      "Iteration 148, loss = 0.04217148\n",
      "Iteration 149, loss = 0.04188739\n",
      "Iteration 150, loss = 0.04217524\n",
      "Iteration 151, loss = 0.04180073\n",
      "Iteration 152, loss = 0.04144156\n",
      "Iteration 153, loss = 0.04149653\n",
      "Iteration 154, loss = 0.04137124\n",
      "Iteration 155, loss = 0.04127328\n",
      "Iteration 156, loss = 0.04125882\n",
      "Iteration 157, loss = 0.04063427\n",
      "Iteration 158, loss = 0.04086025\n",
      "Iteration 159, loss = 0.04094364\n",
      "Iteration 160, loss = 0.04093119\n",
      "Iteration 161, loss = 0.04055753\n",
      "Iteration 162, loss = 0.04057207\n",
      "Iteration 163, loss = 0.04016585\n",
      "Iteration 164, loss = 0.04046621\n",
      "Iteration 165, loss = 0.03992445\n",
      "Iteration 166, loss = 0.03983462\n",
      "Iteration 167, loss = 0.03995635\n",
      "Iteration 168, loss = 0.03982888\n",
      "Iteration 169, loss = 0.04000116\n",
      "Iteration 170, loss = 0.03938576\n",
      "Iteration 171, loss = 0.03932490\n",
      "Iteration 172, loss = 0.03904813\n",
      "Iteration 173, loss = 0.03905445\n",
      "Iteration 174, loss = 0.03878873\n",
      "Iteration 175, loss = 0.03884661\n",
      "Iteration 176, loss = 0.03819616\n",
      "Iteration 177, loss = 0.03863665\n",
      "Iteration 178, loss = 0.03833103\n",
      "Iteration 179, loss = 0.03790095\n",
      "Iteration 180, loss = 0.03796902\n",
      "Iteration 181, loss = 0.03769495\n",
      "Iteration 182, loss = 0.03795795\n",
      "Iteration 183, loss = 0.03776416\n",
      "Iteration 184, loss = 0.03712989\n",
      "Iteration 185, loss = 0.03701358\n",
      "Iteration 186, loss = 0.03682981\n",
      "Iteration 187, loss = 0.03684321\n",
      "Iteration 188, loss = 0.03674815\n",
      "Iteration 189, loss = 0.03691311\n",
      "Iteration 190, loss = 0.03657325\n",
      "Iteration 191, loss = 0.03624722\n",
      "Iteration 192, loss = 0.03601285\n",
      "Iteration 193, loss = 0.03609027\n",
      "Iteration 194, loss = 0.03572079\n",
      "Iteration 195, loss = 0.03548551\n",
      "Iteration 196, loss = 0.03553640\n",
      "Iteration 197, loss = 0.03542352\n",
      "Iteration 198, loss = 0.03500800\n",
      "Iteration 199, loss = 0.03478865\n",
      "Iteration 200, loss = 0.03484345\n",
      "0.9839735894357743\n",
      "0.9333998503367423\n"
     ]
    },
    {
     "name": "stderr",
     "output_type": "stream",
     "text": [
      "C:\\Users\\yoshi\\anaconda3\\lib\\site-packages\\sklearn\\neural_network\\_multilayer_perceptron.py:614: ConvergenceWarning: Stochastic Optimizer: Maximum iterations (200) reached and the optimization hasn't converged yet.\n",
      "  warnings.warn(\n"
     ]
    }
   ],
   "source": [
    "#Neural Network implementation (MLPClassifier), using features from dimensionality reduction, outputting F1 score\n",
    "X_train_tf, X_test_tf, y_train, y_test = train_test_split(data_prepared_transformed, data_target, test_size=0.2, random_state=24) \n",
    "mlpc = MLPClassifier(hidden_layer_sizes=100, activation='relu', solver='adam', alpha=1e-4, learning_rate='constant',\n",
    "                    learning_rate_init=1e-3, random_state=24, verbose=True)\n",
    "mlpc.fit(X_train_tf, y_train)\n",
    "y_pred = mlpc.predict(X_test_tf)\n",
    "print(mlpc.score(X_test_tf, y_test))\n",
    "print(f1_score(y_test, y_pred))"
   ]
  },
  {
   "cell_type": "code",
   "execution_count": 26,
   "id": "cubic-edwards",
   "metadata": {},
   "outputs": [
    {
     "name": "stdout",
     "output_type": "stream",
     "text": [
      "Max Depth:  16\n",
      "# of Estimators:  50\n",
      "Avg R2 Score:  1.0\n",
      "Avg F1 Score:  1.0\n"
     ]
    }
   ],
   "source": [
    "#K-fold Cross Validation on Ensemble method, outputting average R2 score and average F1 score\n",
    "n_splits = 10\n",
    "sss = StratifiedShuffleSplit(n_splits=n_splits, test_size=0.2, random_state=24)\n",
    "max_depth_list = [16]\n",
    "#n_estimators_list = [10, 20, 30, 40, 50, 60, 70, 80, 90, 100]\n",
    "n_estimators_list = [50]\n",
    "for i in range(len(max_depth_list)):\n",
    "    for j in range(len(n_estimators_list)):\n",
    "        acc = 0\n",
    "        f1score = 0\n",
    "        print(\"Max Depth: \", max_depth_list[i])\n",
    "        print(\"# of Estimators: \", n_estimators_list[j])\n",
    "        for train_index, test_index in sss.split(data_prepared, data_target):\n",
    "            X_train, X_test = data_prepared[train_index], data_prepared[test_index]\n",
    "            y_train, y_test = data_target.iloc[train_index], data_target.iloc[test_index]\n",
    "            rfr = RandomForestClassifier(n_estimators=n_estimators_list[j], max_depth=max_depth_list[i], random_state=24)\n",
    "            rfr.fit(X_train, y_train)\n",
    "            y_pred = rfr.predict(X_test)\n",
    "            acc = acc + rfr.score(X_test, y_test)\n",
    "            f1 = f1_score(y_test, y_pred)\n",
    "            f1score = f1score + f1\n",
    "        print(\"Avg R2 Score: \", acc/n_splits)\n",
    "        print(\"Avg F1 Score: \", f1score/n_splits)"
   ]
  },
  {
   "cell_type": "code",
   "execution_count": 37,
   "id": "sealed-custody",
   "metadata": {},
   "outputs": [
    {
     "name": "stderr",
     "output_type": "stream",
     "text": [
      "C:\\Users\\yoshi\\anaconda3\\lib\\site-packages\\sklearn\\neural_network\\_multilayer_perceptron.py:614: ConvergenceWarning: Stochastic Optimizer: Maximum iterations (200) reached and the optimization hasn't converged yet.\n",
      "  warnings.warn(\n",
      "C:\\Users\\yoshi\\anaconda3\\lib\\site-packages\\sklearn\\neural_network\\_multilayer_perceptron.py:614: ConvergenceWarning: Stochastic Optimizer: Maximum iterations (200) reached and the optimization hasn't converged yet.\n",
      "  warnings.warn(\n",
      "C:\\Users\\yoshi\\anaconda3\\lib\\site-packages\\sklearn\\neural_network\\_multilayer_perceptron.py:614: ConvergenceWarning: Stochastic Optimizer: Maximum iterations (200) reached and the optimization hasn't converged yet.\n",
      "  warnings.warn(\n",
      "C:\\Users\\yoshi\\anaconda3\\lib\\site-packages\\sklearn\\neural_network\\_multilayer_perceptron.py:614: ConvergenceWarning: Stochastic Optimizer: Maximum iterations (200) reached and the optimization hasn't converged yet.\n",
      "  warnings.warn(\n",
      "C:\\Users\\yoshi\\anaconda3\\lib\\site-packages\\sklearn\\neural_network\\_multilayer_perceptron.py:614: ConvergenceWarning: Stochastic Optimizer: Maximum iterations (200) reached and the optimization hasn't converged yet.\n",
      "  warnings.warn(\n",
      "C:\\Users\\yoshi\\anaconda3\\lib\\site-packages\\sklearn\\neural_network\\_multilayer_perceptron.py:614: ConvergenceWarning: Stochastic Optimizer: Maximum iterations (200) reached and the optimization hasn't converged yet.\n",
      "  warnings.warn(\n",
      "C:\\Users\\yoshi\\anaconda3\\lib\\site-packages\\sklearn\\neural_network\\_multilayer_perceptron.py:614: ConvergenceWarning: Stochastic Optimizer: Maximum iterations (200) reached and the optimization hasn't converged yet.\n",
      "  warnings.warn(\n",
      "C:\\Users\\yoshi\\anaconda3\\lib\\site-packages\\sklearn\\neural_network\\_multilayer_perceptron.py:614: ConvergenceWarning: Stochastic Optimizer: Maximum iterations (200) reached and the optimization hasn't converged yet.\n",
      "  warnings.warn(\n",
      "C:\\Users\\yoshi\\anaconda3\\lib\\site-packages\\sklearn\\neural_network\\_multilayer_perceptron.py:614: ConvergenceWarning: Stochastic Optimizer: Maximum iterations (200) reached and the optimization hasn't converged yet.\n",
      "  warnings.warn(\n",
      "C:\\Users\\yoshi\\anaconda3\\lib\\site-packages\\sklearn\\neural_network\\_multilayer_perceptron.py:614: ConvergenceWarning: Stochastic Optimizer: Maximum iterations (200) reached and the optimization hasn't converged yet.\n",
      "  warnings.warn(\n"
     ]
    },
    {
     "name": "stdout",
     "output_type": "stream",
     "text": [
      "Avg R2 Score ( sgd ):  0.9517226890756302\n",
      "Avg F1 Score: ( sgd ): 0.8003946493096155\n"
     ]
    },
    {
     "name": "stderr",
     "output_type": "stream",
     "text": [
      "C:\\Users\\yoshi\\anaconda3\\lib\\site-packages\\sklearn\\neural_network\\_multilayer_perceptron.py:614: ConvergenceWarning: Stochastic Optimizer: Maximum iterations (200) reached and the optimization hasn't converged yet.\n",
      "  warnings.warn(\n",
      "C:\\Users\\yoshi\\anaconda3\\lib\\site-packages\\sklearn\\neural_network\\_multilayer_perceptron.py:614: ConvergenceWarning: Stochastic Optimizer: Maximum iterations (200) reached and the optimization hasn't converged yet.\n",
      "  warnings.warn(\n",
      "C:\\Users\\yoshi\\anaconda3\\lib\\site-packages\\sklearn\\neural_network\\_multilayer_perceptron.py:614: ConvergenceWarning: Stochastic Optimizer: Maximum iterations (200) reached and the optimization hasn't converged yet.\n",
      "  warnings.warn(\n",
      "C:\\Users\\yoshi\\anaconda3\\lib\\site-packages\\sklearn\\neural_network\\_multilayer_perceptron.py:614: ConvergenceWarning: Stochastic Optimizer: Maximum iterations (200) reached and the optimization hasn't converged yet.\n",
      "  warnings.warn(\n",
      "C:\\Users\\yoshi\\anaconda3\\lib\\site-packages\\sklearn\\neural_network\\_multilayer_perceptron.py:614: ConvergenceWarning: Stochastic Optimizer: Maximum iterations (200) reached and the optimization hasn't converged yet.\n",
      "  warnings.warn(\n",
      "C:\\Users\\yoshi\\anaconda3\\lib\\site-packages\\sklearn\\neural_network\\_multilayer_perceptron.py:614: ConvergenceWarning: Stochastic Optimizer: Maximum iterations (200) reached and the optimization hasn't converged yet.\n",
      "  warnings.warn(\n",
      "C:\\Users\\yoshi\\anaconda3\\lib\\site-packages\\sklearn\\neural_network\\_multilayer_perceptron.py:614: ConvergenceWarning: Stochastic Optimizer: Maximum iterations (200) reached and the optimization hasn't converged yet.\n",
      "  warnings.warn(\n",
      "C:\\Users\\yoshi\\anaconda3\\lib\\site-packages\\sklearn\\neural_network\\_multilayer_perceptron.py:614: ConvergenceWarning: Stochastic Optimizer: Maximum iterations (200) reached and the optimization hasn't converged yet.\n",
      "  warnings.warn(\n",
      "C:\\Users\\yoshi\\anaconda3\\lib\\site-packages\\sklearn\\neural_network\\_multilayer_perceptron.py:614: ConvergenceWarning: Stochastic Optimizer: Maximum iterations (200) reached and the optimization hasn't converged yet.\n",
      "  warnings.warn(\n"
     ]
    },
    {
     "name": "stdout",
     "output_type": "stream",
     "text": [
      "Avg R2 Score ( adam ):  0.9870048019207681\n",
      "Avg F1 Score: ( adam ): 0.9483593613470471\n"
     ]
    },
    {
     "name": "stderr",
     "output_type": "stream",
     "text": [
      "C:\\Users\\yoshi\\anaconda3\\lib\\site-packages\\sklearn\\neural_network\\_multilayer_perceptron.py:619: UserWarning: Training interrupted by user.\n",
      "  warnings.warn(\"Training interrupted by user.\")\n"
     ]
    }
   ],
   "source": [
    "# K-fold Cross Validation on Neural Network, outputting average R2 score and average F1 score\n",
    "#architecture = (100,), learning rate = 1e-3, layer activations = relu, optimizer = adam, alpha = 1e-4, learning_rate=constant,\n",
    "# tuning for optimizer\n",
    "acc = 0\n",
    "f1score = 0\n",
    "n_splits = 10\n",
    "sss = StratifiedShuffleSplit(n_splits=n_splits, test_size=0.2, random_state=24)\n",
    "solver_list = ['sgd', 'adam']\n",
    "for i in range(len(solver_list)):\n",
    "    acc = 0\n",
    "    f1score = 0\n",
    "    mlpc = MLPClassifier(hidden_layer_sizes=100, activation='relu', solver=solver_list[i], alpha=1e-4, \n",
    "                         learning_rate='constant', learning_rate_init=1e-3, random_state=24, verbose=False)\n",
    "    for train_index, test_index in sss.split(data_prepared_transformed, data_target):\n",
    "        X_train, X_test = data_prepared_transformed[train_index], data_prepared_transformed[test_index]\n",
    "        y_train, y_test = data_target.iloc[train_index], data_target.iloc[test_index]\n",
    "        mlpc.fit(X_train, y_train)\n",
    "        y_pred = mlpc.predict(X_test)\n",
    "        acc = acc + mlpc.score(X_test, y_test)\n",
    "        f1 = f1_score(y_test, y_pred)\n",
    "        f1score = f1score + f1\n",
    "    print(\"Avg R2 Score (\", solver_list[i], \"): \", acc/n_splits)\n",
    "    print(\"Avg F1 Score: (\", solver_list[i], \"):\", f1score/n_splits)"
   ]
  },
  {
   "cell_type": "code",
   "execution_count": null,
   "id": "killing-avenue",
   "metadata": {},
   "outputs": [],
   "source": [
    "#tuning NN, trying different activation functions\n",
    "#architecture = (100,), learning rate = 1e-3, layer activations = relu, optimizer = adam, alpha = 1e-4, learning_rate=constant,\n",
    "# tuning for activation\n",
    "acc = 0\n",
    "f1score = 0\n",
    "n_splits = 10\n",
    "sss = StratifiedShuffleSplit(n_splits=n_splits, test_size=0.2, random_state=24)\n",
    "activation_list = ['relu', 'logistic', 'tanh']\n",
    "for i in range(len(activation_list)):\n",
    "    acc = 0\n",
    "    f1score = 0\n",
    "    mlpc = MLPClassifier(hidden_layer_sizes=100, activation=activation_list[i], solver='adam', alpha=1e-4, \n",
    "                         learning_rate='constant', learning_rate_init=1e-3, random_state=24, verbose=False)\n",
    "    for train_index, test_index in sss.split(data_prepared_transformed, data_target):\n",
    "        X_train, X_test = data_prepared_transformed[train_index], data_prepared_transformed[test_index]\n",
    "        y_train, y_test = data_target.iloc[train_index], data_target.iloc[test_index]\n",
    "        mlpc.fit(X_train, y_train)\n",
    "        y_pred = mlpc.predict(X_test)\n",
    "        acc = acc + mlpc.score(X_test, y_test)\n",
    "        f1 = f1_score(y_test, y_pred)\n",
    "        f1score = f1score + f1\n",
    "    print(\"Avg Accuracy (\", activation_list[i], \"): \", acc/n_splits)\n",
    "    print(\"Avg F1 Score: (\", activation_list[i], \"):\", f1score/n_splits)"
   ]
  },
  {
   "cell_type": "code",
   "execution_count": 38,
   "id": "manufactured-december",
   "metadata": {},
   "outputs": [
    {
     "name": "stderr",
     "output_type": "stream",
     "text": [
      "C:\\Users\\yoshi\\anaconda3\\lib\\site-packages\\sklearn\\neural_network\\_multilayer_perceptron.py:614: ConvergenceWarning: Stochastic Optimizer: Maximum iterations (200) reached and the optimization hasn't converged yet.\n",
      "  warnings.warn(\n",
      "C:\\Users\\yoshi\\anaconda3\\lib\\site-packages\\sklearn\\neural_network\\_multilayer_perceptron.py:614: ConvergenceWarning: Stochastic Optimizer: Maximum iterations (200) reached and the optimization hasn't converged yet.\n",
      "  warnings.warn(\n",
      "C:\\Users\\yoshi\\anaconda3\\lib\\site-packages\\sklearn\\neural_network\\_multilayer_perceptron.py:614: ConvergenceWarning: Stochastic Optimizer: Maximum iterations (200) reached and the optimization hasn't converged yet.\n",
      "  warnings.warn(\n",
      "C:\\Users\\yoshi\\anaconda3\\lib\\site-packages\\sklearn\\neural_network\\_multilayer_perceptron.py:614: ConvergenceWarning: Stochastic Optimizer: Maximum iterations (200) reached and the optimization hasn't converged yet.\n",
      "  warnings.warn(\n",
      "C:\\Users\\yoshi\\anaconda3\\lib\\site-packages\\sklearn\\neural_network\\_multilayer_perceptron.py:614: ConvergenceWarning: Stochastic Optimizer: Maximum iterations (200) reached and the optimization hasn't converged yet.\n",
      "  warnings.warn(\n",
      "C:\\Users\\yoshi\\anaconda3\\lib\\site-packages\\sklearn\\neural_network\\_multilayer_perceptron.py:614: ConvergenceWarning: Stochastic Optimizer: Maximum iterations (200) reached and the optimization hasn't converged yet.\n",
      "  warnings.warn(\n",
      "C:\\Users\\yoshi\\anaconda3\\lib\\site-packages\\sklearn\\neural_network\\_multilayer_perceptron.py:614: ConvergenceWarning: Stochastic Optimizer: Maximum iterations (200) reached and the optimization hasn't converged yet.\n",
      "  warnings.warn(\n",
      "C:\\Users\\yoshi\\anaconda3\\lib\\site-packages\\sklearn\\neural_network\\_multilayer_perceptron.py:614: ConvergenceWarning: Stochastic Optimizer: Maximum iterations (200) reached and the optimization hasn't converged yet.\n",
      "  warnings.warn(\n",
      "C:\\Users\\yoshi\\anaconda3\\lib\\site-packages\\sklearn\\neural_network\\_multilayer_perceptron.py:614: ConvergenceWarning: Stochastic Optimizer: Maximum iterations (200) reached and the optimization hasn't converged yet.\n",
      "  warnings.warn(\n",
      "C:\\Users\\yoshi\\anaconda3\\lib\\site-packages\\sklearn\\neural_network\\_multilayer_perceptron.py:614: ConvergenceWarning: Stochastic Optimizer: Maximum iterations (200) reached and the optimization hasn't converged yet.\n",
      "  warnings.warn(\n"
     ]
    },
    {
     "name": "stdout",
     "output_type": "stream",
     "text": [
      "Avg Accuracy ( sgd ):  0.9456842737094838\n",
      "Avg F1 Score: ( sgd ): 0.7730742715927982\n"
     ]
    },
    {
     "name": "stderr",
     "output_type": "stream",
     "text": [
      "C:\\Users\\yoshi\\anaconda3\\lib\\site-packages\\sklearn\\neural_network\\_multilayer_perceptron.py:614: ConvergenceWarning: Stochastic Optimizer: Maximum iterations (200) reached and the optimization hasn't converged yet.\n",
      "  warnings.warn(\n",
      "C:\\Users\\yoshi\\anaconda3\\lib\\site-packages\\sklearn\\neural_network\\_multilayer_perceptron.py:614: ConvergenceWarning: Stochastic Optimizer: Maximum iterations (200) reached and the optimization hasn't converged yet.\n",
      "  warnings.warn(\n",
      "C:\\Users\\yoshi\\anaconda3\\lib\\site-packages\\sklearn\\neural_network\\_multilayer_perceptron.py:614: ConvergenceWarning: Stochastic Optimizer: Maximum iterations (200) reached and the optimization hasn't converged yet.\n",
      "  warnings.warn(\n",
      "C:\\Users\\yoshi\\anaconda3\\lib\\site-packages\\sklearn\\neural_network\\_multilayer_perceptron.py:614: ConvergenceWarning: Stochastic Optimizer: Maximum iterations (200) reached and the optimization hasn't converged yet.\n",
      "  warnings.warn(\n",
      "C:\\Users\\yoshi\\anaconda3\\lib\\site-packages\\sklearn\\neural_network\\_multilayer_perceptron.py:614: ConvergenceWarning: Stochastic Optimizer: Maximum iterations (200) reached and the optimization hasn't converged yet.\n",
      "  warnings.warn(\n",
      "C:\\Users\\yoshi\\anaconda3\\lib\\site-packages\\sklearn\\neural_network\\_multilayer_perceptron.py:614: ConvergenceWarning: Stochastic Optimizer: Maximum iterations (200) reached and the optimization hasn't converged yet.\n",
      "  warnings.warn(\n",
      "C:\\Users\\yoshi\\anaconda3\\lib\\site-packages\\sklearn\\neural_network\\_multilayer_perceptron.py:614: ConvergenceWarning: Stochastic Optimizer: Maximum iterations (200) reached and the optimization hasn't converged yet.\n",
      "  warnings.warn(\n",
      "C:\\Users\\yoshi\\anaconda3\\lib\\site-packages\\sklearn\\neural_network\\_multilayer_perceptron.py:614: ConvergenceWarning: Stochastic Optimizer: Maximum iterations (200) reached and the optimization hasn't converged yet.\n",
      "  warnings.warn(\n",
      "C:\\Users\\yoshi\\anaconda3\\lib\\site-packages\\sklearn\\neural_network\\_multilayer_perceptron.py:614: ConvergenceWarning: Stochastic Optimizer: Maximum iterations (200) reached and the optimization hasn't converged yet.\n",
      "  warnings.warn(\n"
     ]
    },
    {
     "name": "stdout",
     "output_type": "stream",
     "text": [
      "Avg Accuracy ( adam ):  0.9927250900360143\n",
      "Avg F1 Score: ( adam ): 0.9712265628433716\n"
     ]
    },
    {
     "name": "stderr",
     "output_type": "stream",
     "text": [
      "C:\\Users\\yoshi\\anaconda3\\lib\\site-packages\\sklearn\\neural_network\\_multilayer_perceptron.py:614: ConvergenceWarning: Stochastic Optimizer: Maximum iterations (200) reached and the optimization hasn't converged yet.\n",
      "  warnings.warn(\n"
     ]
    }
   ],
   "source": [
    "#Tuning NN, trying different optimizers\n",
    "#architecture = (100,), learning rate = 1e-3, layer activations = tanh, optimizer = adam, alpha = 1e-4, learning_rate=constant,\n",
    "# tuning for optimizer\n",
    "#finalized model!\n",
    "acc = 0\n",
    "f1score = 0\n",
    "n_splits = 10\n",
    "sss = StratifiedShuffleSplit(n_splits=n_splits, test_size=0.2, random_state=24)\n",
    "solver_list = ['sgd', 'adam']\n",
    "for i in range(len(solver_list)):\n",
    "    acc = 0\n",
    "    f1score = 0\n",
    "    mlpc = MLPClassifier(hidden_layer_sizes=100, activation='tanh', solver=solver_list[i], alpha=1e-4, \n",
    "                         learning_rate='constant', learning_rate_init=1e-3, random_state=24, verbose=False)\n",
    "    for train_index, test_index in sss.split(data_prepared_transformed, data_target):\n",
    "        X_train, X_test = data_prepared_transformed[train_index], data_prepared_transformed[test_index]\n",
    "        y_train, y_test = data_target.iloc[train_index], data_target.iloc[test_index]\n",
    "        mlpc.fit(X_train, y_train)\n",
    "        y_pred = mlpc.predict(X_test)\n",
    "        acc = acc + mlpc.score(X_test, y_test)\n",
    "        f1 = f1_score(y_test, y_pred)\n",
    "        f1score = f1score + f1\n",
    "    print(\"Avg Accuracy (\", solver_list[i], \"): \", acc/n_splits)\n",
    "    print(\"Avg F1 Score: (\", solver_list[i], \"):\", f1score/n_splits)"
   ]
  },
  {
   "cell_type": "code",
   "execution_count": 45,
   "id": "driving-throw",
   "metadata": {},
   "outputs": [
    {
     "name": "stdout",
     "output_type": "stream",
     "text": [
      "[0 1 0 0 0 0 1 0 0 0 0 1 0 1 0 0 0 1 0 0 0 1 0 0 0 0 0 1 1 0 1 0 1 0 0 0 0\n",
      " 0 0 0 1 0 0 0 1 0 0 0 0 1 0 1 1 1 0 0 0 1 0 0 0 0 0 0 0 0 0 1 1 0 1 0 0 0\n",
      " 0 1 0 1 0 1 1 0 1 1 0 0 0 0 0 0 0 0 0 0 0 0 0 1 0 0 1 0 0 1 0 0 0 0 0 1 0\n",
      " 0 1 0 0 0 0 1 0 0 1 1 1 0 0 1 0 0 1 1 1 0 0 1 0 0 0 0 0 0 0 0 1 1 0 0 0 0\n",
      " 1 0 1 1 0 0 0 1 0 0 0 0 0 0 0 1 1 0 0 1 0 0 0 0 0 0 0 1 0 0 1 0 1 0 0 0 0\n",
      " 0 0 0 1 0 0 0 0 0 0 0 0 0 0 0 0 0 0 0 0 0 0 0 0 0 0 0 0 0 1 0 0 0 0 0 0 1\n",
      " 0 0 0 1 0 1 0 0 1 0 0 0 0 0 0 0 0 0 1 1 1 0 0 0 1 1 0 0 0 0 0 0 0 0 0 0 0\n",
      " 0 0 1 0 0 1 0 0 0 0 1 1 0 0 0 0 0 1 0 0 0 0 0 0 0 1 0 1 0 0 1 1 0 0 0 1 0\n",
      " 1 0 0 0 0 0 1 0 0 0 0 0 0 0 0 0 1 0 0 0 0 0 0 0 0 0 0 0 0 0 1 1 0 0 0 0 0\n",
      " 0 1 0 0 0 0 0 1 0 0 1 1 0 1 1 1 0 0 0 1 1 0 0 0 0 0 0 1 0 0 0 0 0 0 1 0 0\n",
      " 0 1 0 0 0 0 1 0 0 0 0 0 1 1 0 0 1 0 0 0 0 0 1 0 1 0 0 0 0 0 0 0 1 1 1 1 0\n",
      " 0 0 0 1 1 0 0 1 0 0 0 0 0 0 1 0 0 0 0 1 1 0 0 0 0 0 1 0 1 0 0 0 1 0 0 0 0\n",
      " 0 0 0 1 1 0 1 1 0 0 0 0 0 1 0 1 0 0 0 0 0 1 0 0 0 1 1 0 1 0 0 0 0 0 0 0 0\n",
      " 0 0 1 0 0 0 0 0 1 1 0 0 0 1 0 1 0 1 0 0 0 0 0 0 1 0 0 0 0 0 1 1 1 0 0 1 0\n",
      " 0 0 1 0 0 1 0 0 0 1 0 0 0 0 0 0 0 0 0 1 0 0 1 0 0 0 0 0 0 0 0 0 0 1 1 0 1\n",
      " 0 0 1 1 0 1 0 0 0 1 0 0 0 0 1 1 0 1 1 1 1 1 0 0 0 0 0 0 0 0 0 1 1 0 1 0 0\n",
      " 0 0 0 1 0 0 1 1 0 0 1 1 0 0 1 0 0 0 0 0 0 0 1 0 0 0 0 0 0 0 1 0 0 1 1 1 0\n",
      " 1 0 0 1 1 0 1 0 0 1 0 0 0 0 1 0 0 0 0 1 0 1 0 0 0 0 0 0 0 0 1 0 0 0 0 0 0\n",
      " 0 0 0 0 1 0 1 0 0 0 0 0 0 0 0 0 0 0 0 0 0 0 0 0 1 1 0 0 0 0 0 0 0 0 0 0 1\n",
      " 1 0 1 0 0 0 0 0 0 0 0 0 1 1 0 0 0 1 0 1 1 0 0 1 0 0 1 0 0 0 1 0 0 1 0 0 0\n",
      " 0 1 0 1 0 1 0 0 1 0 0 1 0 1 0 0 1 0 1 0 0 0 1 0 0 1 0 0 0 0 0 0 1 0 0 0 0\n",
      " 0 1 0 0 0 0 0 1 0 0 1 0 0 1 0 0 0 1 1 0 0 0 1 0 0 0 1 1 1 1 0 1 1 1 1 0 1\n",
      " 1 0 0 0 0 0 0 0 1 0 0 1 0 1 0 1 0 0 0 0 0 0 1 0 0 0 1 0 1 0 0 0 0 0 0 0 0\n",
      " 1 1 0 0 0 1 0 0 0 0 1 0 0 0 0 0 0 0 0 1 0 0 0 0 1 0 0 1 0 1 0 0 0 0 1 0 0\n",
      " 0 1 0 0 1 0 0 0 0 1 0 1 1 0 0 1 0 0 0 0 0 1 0 0 0 0 0 1 0 0 1 1 1 0 1 0 0\n",
      " 0 0 0 1 0 0 0 0 0 0 0 0 0 0 0 0 0 0 1 1 1 1 0 0 1 0 0 0 0 0 0 1 0 0 0 1 0\n",
      " 0 0 0 0 1 0 0 0 1 0 0 0 0 0 0 0 0 0 0 1 1 0 0 1 0 0 0 0 1 0 0 0 0 0 0 0 0\n",
      " 0]\n"
     ]
    },
    {
     "name": "stderr",
     "output_type": "stream",
     "text": [
      "C:\\Users\\yoshi\\anaconda3\\lib\\site-packages\\sklearn\\neural_network\\_multilayer_perceptron.py:614: ConvergenceWarning: Stochastic Optimizer: Maximum iterations (200) reached and the optimization hasn't converged yet.\n",
      "  warnings.warn(\n"
     ]
    }
   ],
   "source": [
    "#Producing predictions on test data\n",
    "mlpc = MLPClassifier(hidden_layer_sizes=100, activation='tanh', solver='adam', alpha=1e-4, \n",
    "                         learning_rate='constant', learning_rate_init=1e-3, random_state=24, verbose=False)\n",
    "mlpc.fit(data_prepared_transformed, data_target)\n",
    "y_pred = mlpc.predict(test_data_transformed)\n",
    "print(y_pred)"
   ]
  },
  {
   "cell_type": "code",
   "execution_count": 44,
   "id": "confused-cornwall",
   "metadata": {},
   "outputs": [],
   "source": [
    "# trying random forest classifier for prediction (best model)\n",
    "rfr = RandomForestClassifier(n_estimators=100, max_depth=16, random_state=24, criterion='entropy')\n",
    "rfr.fit(data_prepared, data_target)\n",
    "y_pred = rfr.predict(test_data)"
   ]
  },
  {
   "cell_type": "code",
   "execution_count": 45,
   "id": "controlling-guide",
   "metadata": {},
   "outputs": [
    {
     "name": "stdout",
     "output_type": "stream",
     "text": [
      "        Id  Predicted\n",
      "0    83414          0\n",
      "1    83415          0\n",
      "2    83416          0\n",
      "3    83417          0\n",
      "4    83418          0\n",
      "..     ...        ...\n",
      "995  84409          0\n",
      "996  84410          0\n",
      "997  84411          0\n",
      "998  84412          0\n",
      "999  84413          0\n",
      "\n",
      "[1000 rows x 2 columns]\n"
     ]
    }
   ],
   "source": [
    "ids = np.arange(83414,84414)\n",
    "df = pd.DataFrame(y_pred)\n",
    "ids = pd.DataFrame(ids)\n",
    "df = df.rename(columns={0:\"Predicted\"})\n",
    "ids = ids.rename(columns={0:\"Id\"})\n",
    "result = pd.concat([ids, df], axis=1, join='inner') \n",
    "print(result)"
   ]
  },
  {
   "cell_type": "code",
   "execution_count": 46,
   "id": "personal-speaker",
   "metadata": {},
   "outputs": [],
   "source": [
    "result.to_csv('predictions.csv', index=False)"
   ]
  },
  {
   "cell_type": "code",
   "execution_count": null,
   "id": "intense-objective",
   "metadata": {},
   "outputs": [],
   "source": []
  }
 ],
 "metadata": {
  "kernelspec": {
   "display_name": "Python 3",
   "language": "python",
   "name": "python3"
  },
  "language_info": {
   "codemirror_mode": {
    "name": "ipython",
    "version": 3
   },
   "file_extension": ".py",
   "mimetype": "text/x-python",
   "name": "python",
   "nbconvert_exporter": "python",
   "pygments_lexer": "ipython3",
   "version": "3.8.8"
  }
 },
 "nbformat": 4,
 "nbformat_minor": 5
}
